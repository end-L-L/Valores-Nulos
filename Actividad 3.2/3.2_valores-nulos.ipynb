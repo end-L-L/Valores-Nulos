{
 "cells": [
  {
   "cell_type": "markdown",
   "metadata": {},
   "source": [
    "# Sustitución de Valores Nulos"
   ]
  },
  {
   "cell_type": "code",
   "execution_count": 1,
   "metadata": {},
   "outputs": [],
   "source": [
    "import pandas as pd"
   ]
  },
  {
   "cell_type": "code",
   "execution_count": 2,
   "metadata": {},
   "outputs": [],
   "source": [
    "df = pd.read_csv('Florencia.csv')"
   ]
  },
  {
   "cell_type": "code",
   "execution_count": 3,
   "metadata": {},
   "outputs": [
    {
     "data": {
      "text/html": [
       "<div>\n",
       "<style scoped>\n",
       "    .dataframe tbody tr th:only-of-type {\n",
       "        vertical-align: middle;\n",
       "    }\n",
       "\n",
       "    .dataframe tbody tr th {\n",
       "        vertical-align: top;\n",
       "    }\n",
       "\n",
       "    .dataframe thead th {\n",
       "        text-align: right;\n",
       "    }\n",
       "</style>\n",
       "<table border=\"1\" class=\"dataframe\">\n",
       "  <thead>\n",
       "    <tr style=\"text-align: right;\">\n",
       "      <th></th>\n",
       "      <th>id</th>\n",
       "      <th>listing_url</th>\n",
       "      <th>scrape_id</th>\n",
       "      <th>last_scraped</th>\n",
       "      <th>source</th>\n",
       "      <th>name</th>\n",
       "      <th>description</th>\n",
       "      <th>neighborhood_overview</th>\n",
       "      <th>picture_url</th>\n",
       "      <th>host_id</th>\n",
       "      <th>...</th>\n",
       "      <th>review_scores_communication</th>\n",
       "      <th>review_scores_location</th>\n",
       "      <th>review_scores_value</th>\n",
       "      <th>license</th>\n",
       "      <th>instant_bookable</th>\n",
       "      <th>calculated_host_listings_count</th>\n",
       "      <th>calculated_host_listings_count_entire_homes</th>\n",
       "      <th>calculated_host_listings_count_private_rooms</th>\n",
       "      <th>calculated_host_listings_count_shared_rooms</th>\n",
       "      <th>reviews_per_month</th>\n",
       "    </tr>\n",
       "  </thead>\n",
       "  <tbody>\n",
       "    <tr>\n",
       "      <th>0</th>\n",
       "      <td>31840</td>\n",
       "      <td>https://www.airbnb.com/rooms/31840</td>\n",
       "      <td>20240917031426</td>\n",
       "      <td>2024-09-17</td>\n",
       "      <td>previous scrape</td>\n",
       "      <td>A Residenza Martin  Classic room</td>\n",
       "      <td>Nice, private and quiet double room, classic s...</td>\n",
       "      <td>NaN</td>\n",
       "      <td>https://a0.muscache.com/pictures/prohost-api/H...</td>\n",
       "      <td>380378</td>\n",
       "      <td>...</td>\n",
       "      <td>4.91</td>\n",
       "      <td>4.91</td>\n",
       "      <td>4.70</td>\n",
       "      <td>NaN</td>\n",
       "      <td>t</td>\n",
       "      <td>31</td>\n",
       "      <td>21</td>\n",
       "      <td>10</td>\n",
       "      <td>0</td>\n",
       "      <td>0.77</td>\n",
       "    </tr>\n",
       "    <tr>\n",
       "      <th>1</th>\n",
       "      <td>32120</td>\n",
       "      <td>https://www.airbnb.com/rooms/32120</td>\n",
       "      <td>20240917031426</td>\n",
       "      <td>2024-09-17</td>\n",
       "      <td>city scrape</td>\n",
       "      <td>Welcome at Corte Verde in Florence</td>\n",
       "      <td>Apartment at a 30 minute walk from Ponte Vecch...</td>\n",
       "      <td>NaN</td>\n",
       "      <td>https://a0.muscache.com/pictures/miso/Hosting-...</td>\n",
       "      <td>99235</td>\n",
       "      <td>...</td>\n",
       "      <td>4.96</td>\n",
       "      <td>4.63</td>\n",
       "      <td>4.63</td>\n",
       "      <td>NaN</td>\n",
       "      <td>f</td>\n",
       "      <td>1</td>\n",
       "      <td>1</td>\n",
       "      <td>0</td>\n",
       "      <td>0</td>\n",
       "      <td>0.15</td>\n",
       "    </tr>\n",
       "    <tr>\n",
       "      <th>2</th>\n",
       "      <td>32180</td>\n",
       "      <td>https://www.airbnb.com/rooms/32180</td>\n",
       "      <td>20240917031426</td>\n",
       "      <td>2024-09-17</td>\n",
       "      <td>city scrape</td>\n",
       "      <td>Charming Gem - Oltrarno City centre</td>\n",
       "      <td>.</td>\n",
       "      <td>NaN</td>\n",
       "      <td>https://a0.muscache.com/pictures/bcb23395-7215...</td>\n",
       "      <td>13925330</td>\n",
       "      <td>...</td>\n",
       "      <td>4.70</td>\n",
       "      <td>4.82</td>\n",
       "      <td>4.85</td>\n",
       "      <td>048017LTN9464</td>\n",
       "      <td>f</td>\n",
       "      <td>1</td>\n",
       "      <td>1</td>\n",
       "      <td>0</td>\n",
       "      <td>0</td>\n",
       "      <td>0.21</td>\n",
       "    </tr>\n",
       "    <tr>\n",
       "      <th>3</th>\n",
       "      <td>39115</td>\n",
       "      <td>https://www.airbnb.com/rooms/39115</td>\n",
       "      <td>20240917031426</td>\n",
       "      <td>2024-09-17</td>\n",
       "      <td>city scrape</td>\n",
       "      <td>Central Double Shared Bathroom</td>\n",
       "      <td>Double (or Twin) Room Shared Bathroom: comfort...</td>\n",
       "      <td>San Lorenzo Church, the market and Cappelle Me...</td>\n",
       "      <td>https://a0.muscache.com/pictures/17793998/5f09...</td>\n",
       "      <td>167739</td>\n",
       "      <td>...</td>\n",
       "      <td>4.74</td>\n",
       "      <td>4.90</td>\n",
       "      <td>4.55</td>\n",
       "      <td>NaN</td>\n",
       "      <td>f</td>\n",
       "      <td>10</td>\n",
       "      <td>2</td>\n",
       "      <td>8</td>\n",
       "      <td>0</td>\n",
       "      <td>0.46</td>\n",
       "    </tr>\n",
       "    <tr>\n",
       "      <th>4</th>\n",
       "      <td>39165</td>\n",
       "      <td>https://www.airbnb.com/rooms/39165</td>\n",
       "      <td>20240917031426</td>\n",
       "      <td>2024-09-17</td>\n",
       "      <td>previous scrape</td>\n",
       "      <td>Florence Central Double Private Bathroom</td>\n",
       "      <td>Double room private bathroom: comfortable, lar...</td>\n",
       "      <td>San Lorenzo Church, the market and Cappelle Me...</td>\n",
       "      <td>https://a0.muscache.com/pictures/7e94f597-ac04...</td>\n",
       "      <td>167739</td>\n",
       "      <td>...</td>\n",
       "      <td>4.63</td>\n",
       "      <td>4.95</td>\n",
       "      <td>4.32</td>\n",
       "      <td>NaN</td>\n",
       "      <td>f</td>\n",
       "      <td>10</td>\n",
       "      <td>2</td>\n",
       "      <td>8</td>\n",
       "      <td>0</td>\n",
       "      <td>0.13</td>\n",
       "    </tr>\n",
       "  </tbody>\n",
       "</table>\n",
       "<p>5 rows × 75 columns</p>\n",
       "</div>"
      ],
      "text/plain": [
       "      id                         listing_url       scrape_id last_scraped  \\\n",
       "0  31840  https://www.airbnb.com/rooms/31840  20240917031426   2024-09-17   \n",
       "1  32120  https://www.airbnb.com/rooms/32120  20240917031426   2024-09-17   \n",
       "2  32180  https://www.airbnb.com/rooms/32180  20240917031426   2024-09-17   \n",
       "3  39115  https://www.airbnb.com/rooms/39115  20240917031426   2024-09-17   \n",
       "4  39165  https://www.airbnb.com/rooms/39165  20240917031426   2024-09-17   \n",
       "\n",
       "            source                                      name  \\\n",
       "0  previous scrape          A Residenza Martin  Classic room   \n",
       "1      city scrape        Welcome at Corte Verde in Florence   \n",
       "2      city scrape       Charming Gem - Oltrarno City centre   \n",
       "3      city scrape            Central Double Shared Bathroom   \n",
       "4  previous scrape  Florence Central Double Private Bathroom   \n",
       "\n",
       "                                         description  \\\n",
       "0  Nice, private and quiet double room, classic s...   \n",
       "1  Apartment at a 30 minute walk from Ponte Vecch...   \n",
       "2                                                  .   \n",
       "3  Double (or Twin) Room Shared Bathroom: comfort...   \n",
       "4  Double room private bathroom: comfortable, lar...   \n",
       "\n",
       "                               neighborhood_overview  \\\n",
       "0                                                NaN   \n",
       "1                                                NaN   \n",
       "2                                                NaN   \n",
       "3  San Lorenzo Church, the market and Cappelle Me...   \n",
       "4  San Lorenzo Church, the market and Cappelle Me...   \n",
       "\n",
       "                                         picture_url   host_id  ...  \\\n",
       "0  https://a0.muscache.com/pictures/prohost-api/H...    380378  ...   \n",
       "1  https://a0.muscache.com/pictures/miso/Hosting-...     99235  ...   \n",
       "2  https://a0.muscache.com/pictures/bcb23395-7215...  13925330  ...   \n",
       "3  https://a0.muscache.com/pictures/17793998/5f09...    167739  ...   \n",
       "4  https://a0.muscache.com/pictures/7e94f597-ac04...    167739  ...   \n",
       "\n",
       "  review_scores_communication review_scores_location review_scores_value  \\\n",
       "0                        4.91                   4.91                4.70   \n",
       "1                        4.96                   4.63                4.63   \n",
       "2                        4.70                   4.82                4.85   \n",
       "3                        4.74                   4.90                4.55   \n",
       "4                        4.63                   4.95                4.32   \n",
       "\n",
       "         license instant_bookable calculated_host_listings_count  \\\n",
       "0            NaN                t                             31   \n",
       "1            NaN                f                              1   \n",
       "2  048017LTN9464                f                              1   \n",
       "3            NaN                f                             10   \n",
       "4            NaN                f                             10   \n",
       "\n",
       "  calculated_host_listings_count_entire_homes  \\\n",
       "0                                          21   \n",
       "1                                           1   \n",
       "2                                           1   \n",
       "3                                           2   \n",
       "4                                           2   \n",
       "\n",
       "  calculated_host_listings_count_private_rooms  \\\n",
       "0                                           10   \n",
       "1                                            0   \n",
       "2                                            0   \n",
       "3                                            8   \n",
       "4                                            8   \n",
       "\n",
       "  calculated_host_listings_count_shared_rooms reviews_per_month  \n",
       "0                                           0              0.77  \n",
       "1                                           0              0.15  \n",
       "2                                           0              0.21  \n",
       "3                                           0              0.46  \n",
       "4                                           0              0.13  \n",
       "\n",
       "[5 rows x 75 columns]"
      ]
     },
     "execution_count": 3,
     "metadata": {},
     "output_type": "execute_result"
    }
   ],
   "source": [
    "df.head()"
   ]
  },
  {
   "cell_type": "code",
   "execution_count": 4,
   "metadata": {},
   "outputs": [
    {
     "name": "stdout",
     "output_type": "stream",
     "text": [
      "<class 'pandas.core.frame.DataFrame'>\n",
      "RangeIndex: 12722 entries, 0 to 12721\n",
      "Data columns (total 75 columns):\n",
      " #   Column                                        Non-Null Count  Dtype  \n",
      "---  ------                                        --------------  -----  \n",
      " 0   id                                            12722 non-null  int64  \n",
      " 1   listing_url                                   12722 non-null  object \n",
      " 2   scrape_id                                     12722 non-null  int64  \n",
      " 3   last_scraped                                  12722 non-null  object \n",
      " 4   source                                        12722 non-null  object \n",
      " 5   name                                          12722 non-null  object \n",
      " 6   description                                   12357 non-null  object \n",
      " 7   neighborhood_overview                         7415 non-null   object \n",
      " 8   picture_url                                   12722 non-null  object \n",
      " 9   host_id                                       12722 non-null  int64  \n",
      " 10  host_url                                      12722 non-null  object \n",
      " 11  host_name                                     12722 non-null  object \n",
      " 12  host_since                                    12722 non-null  object \n",
      " 13  host_location                                 10336 non-null  object \n",
      " 14  host_about                                    7473 non-null   object \n",
      " 15  host_response_time                            11588 non-null  object \n",
      " 16  host_response_rate                            11588 non-null  object \n",
      " 17  host_acceptance_rate                          12135 non-null  object \n",
      " 18  host_is_superhost                             11970 non-null  object \n",
      " 19  host_thumbnail_url                            12722 non-null  object \n",
      " 20  host_picture_url                              12722 non-null  object \n",
      " 21  host_neighbourhood                            6572 non-null   object \n",
      " 22  host_listings_count                           12722 non-null  int64  \n",
      " 23  host_total_listings_count                     12722 non-null  int64  \n",
      " 24  host_verifications                            12722 non-null  object \n",
      " 25  host_has_profile_pic                          12722 non-null  object \n",
      " 26  host_identity_verified                        12722 non-null  object \n",
      " 27  neighbourhood                                 7415 non-null   object \n",
      " 28  neighbourhood_cleansed                        12722 non-null  object \n",
      " 29  neighbourhood_group_cleansed                  0 non-null      float64\n",
      " 30  latitude                                      12722 non-null  float64\n",
      " 31  longitude                                     12722 non-null  float64\n",
      " 32  property_type                                 12722 non-null  object \n",
      " 33  room_type                                     12722 non-null  object \n",
      " 34  accommodates                                  12722 non-null  int64  \n",
      " 35  bathrooms                                     11880 non-null  float64\n",
      " 36  bathrooms_text                                12714 non-null  object \n",
      " 37  bedrooms                                      12651 non-null  float64\n",
      " 38  beds                                          11850 non-null  float64\n",
      " 39  amenities                                     12722 non-null  object \n",
      " 40  price                                         11884 non-null  object \n",
      " 41  minimum_nights                                12722 non-null  int64  \n",
      " 42  maximum_nights                                12722 non-null  int64  \n",
      " 43  minimum_minimum_nights                        12722 non-null  int64  \n",
      " 44  maximum_minimum_nights                        12722 non-null  int64  \n",
      " 45  minimum_maximum_nights                        12722 non-null  int64  \n",
      " 46  maximum_maximum_nights                        12722 non-null  int64  \n",
      " 47  minimum_nights_avg_ntm                        12722 non-null  float64\n",
      " 48  maximum_nights_avg_ntm                        12722 non-null  float64\n",
      " 49  calendar_updated                              0 non-null      float64\n",
      " 50  has_availability                              12683 non-null  object \n",
      " 51  availability_30                               12722 non-null  int64  \n",
      " 52  availability_60                               12722 non-null  int64  \n",
      " 53  availability_90                               12722 non-null  int64  \n",
      " 54  availability_365                              12722 non-null  int64  \n",
      " 55  calendar_last_scraped                         12722 non-null  object \n",
      " 56  number_of_reviews                             12722 non-null  int64  \n",
      " 57  number_of_reviews_ltm                         12722 non-null  int64  \n",
      " 58  number_of_reviews_l30d                        12722 non-null  int64  \n",
      " 59  first_review                                  11341 non-null  object \n",
      " 60  last_review                                   11341 non-null  object \n",
      " 61  review_scores_rating                          11341 non-null  float64\n",
      " 62  review_scores_accuracy                        11341 non-null  float64\n",
      " 63  review_scores_cleanliness                     11341 non-null  float64\n",
      " 64  review_scores_checkin                         11341 non-null  float64\n",
      " 65  review_scores_communication                   11341 non-null  float64\n",
      " 66  review_scores_location                        11341 non-null  float64\n",
      " 67  review_scores_value                           11341 non-null  float64\n",
      " 68  license                                       5641 non-null   object \n",
      " 69  instant_bookable                              12722 non-null  object \n",
      " 70  calculated_host_listings_count                12722 non-null  int64  \n",
      " 71  calculated_host_listings_count_entire_homes   12722 non-null  int64  \n",
      " 72  calculated_host_listings_count_private_rooms  12722 non-null  int64  \n",
      " 73  calculated_host_listings_count_shared_rooms   12722 non-null  int64  \n",
      " 74  reviews_per_month                             11341 non-null  float64\n",
      "dtypes: float64(17), int64(23), object(35)\n",
      "memory usage: 7.3+ MB\n"
     ]
    }
   ],
   "source": [
    "df.info()"
   ]
  },
  {
   "cell_type": "code",
   "execution_count": 5,
   "metadata": {},
   "outputs": [
    {
     "data": {
      "text/plain": [
       "id                                                 0\n",
       "listing_url                                        0\n",
       "scrape_id                                          0\n",
       "last_scraped                                       0\n",
       "source                                             0\n",
       "                                                ... \n",
       "calculated_host_listings_count                     0\n",
       "calculated_host_listings_count_entire_homes        0\n",
       "calculated_host_listings_count_private_rooms       0\n",
       "calculated_host_listings_count_shared_rooms        0\n",
       "reviews_per_month                               1381\n",
       "Length: 75, dtype: int64"
      ]
     },
     "execution_count": 5,
     "metadata": {},
     "output_type": "execute_result"
    }
   ],
   "source": [
    "# Identificar valores nulos por columna\n",
    "valores_nulos = df.isnull().sum()\n",
    "valores_nulos.to_string(\"valores_nulos.txt\")\n",
    "valores_nulos"
   ]
  },
  {
   "cell_type": "code",
   "execution_count": 6,
   "metadata": {},
   "outputs": [
    {
     "data": {
      "text/plain": [
       "np.int64(77376)"
      ]
     },
     "execution_count": 6,
     "metadata": {},
     "output_type": "execute_result"
    }
   ],
   "source": [
    "# Identificar valores nulos por data frame\n",
    "valores_nulos = df.isnull().sum().sum()\n",
    "valores_nulos"
   ]
  },
  {
   "cell_type": "markdown",
   "metadata": {},
   "source": [
    "# Sustitución"
   ]
  },
  {
   "cell_type": "code",
   "execution_count": 7,
   "metadata": {},
   "outputs": [
    {
     "data": {
      "text/html": [
       "<div>\n",
       "<style scoped>\n",
       "    .dataframe tbody tr th:only-of-type {\n",
       "        vertical-align: middle;\n",
       "    }\n",
       "\n",
       "    .dataframe tbody tr th {\n",
       "        vertical-align: top;\n",
       "    }\n",
       "\n",
       "    .dataframe thead th {\n",
       "        text-align: right;\n",
       "    }\n",
       "</style>\n",
       "<table border=\"1\" class=\"dataframe\">\n",
       "  <thead>\n",
       "    <tr style=\"text-align: right;\">\n",
       "      <th></th>\n",
       "      <th>id</th>\n",
       "      <th>listing_url</th>\n",
       "      <th>scrape_id</th>\n",
       "      <th>last_scraped</th>\n",
       "      <th>source</th>\n",
       "      <th>name</th>\n",
       "      <th>description</th>\n",
       "      <th>neighborhood_overview</th>\n",
       "      <th>picture_url</th>\n",
       "      <th>host_id</th>\n",
       "      <th>...</th>\n",
       "      <th>review_scores_communication</th>\n",
       "      <th>review_scores_location</th>\n",
       "      <th>review_scores_value</th>\n",
       "      <th>license</th>\n",
       "      <th>instant_bookable</th>\n",
       "      <th>calculated_host_listings_count</th>\n",
       "      <th>calculated_host_listings_count_entire_homes</th>\n",
       "      <th>calculated_host_listings_count_private_rooms</th>\n",
       "      <th>calculated_host_listings_count_shared_rooms</th>\n",
       "      <th>reviews_per_month</th>\n",
       "    </tr>\n",
       "  </thead>\n",
       "  <tbody>\n",
       "    <tr>\n",
       "      <th>0</th>\n",
       "      <td>31840</td>\n",
       "      <td>https://www.airbnb.com/rooms/31840</td>\n",
       "      <td>20240917031426</td>\n",
       "      <td>2024-09-17</td>\n",
       "      <td>previous scrape</td>\n",
       "      <td>A Residenza Martin  Classic room</td>\n",
       "      <td>Nice, private and quiet double room, classic s...</td>\n",
       "      <td>NaN</td>\n",
       "      <td>https://a0.muscache.com/pictures/prohost-api/H...</td>\n",
       "      <td>380378</td>\n",
       "      <td>...</td>\n",
       "      <td>4.91</td>\n",
       "      <td>4.91</td>\n",
       "      <td>4.70</td>\n",
       "      <td>NaN</td>\n",
       "      <td>t</td>\n",
       "      <td>31</td>\n",
       "      <td>21</td>\n",
       "      <td>10</td>\n",
       "      <td>0</td>\n",
       "      <td>0.77</td>\n",
       "    </tr>\n",
       "    <tr>\n",
       "      <th>1</th>\n",
       "      <td>32120</td>\n",
       "      <td>https://www.airbnb.com/rooms/32120</td>\n",
       "      <td>20240917031426</td>\n",
       "      <td>2024-09-17</td>\n",
       "      <td>city scrape</td>\n",
       "      <td>Welcome at Corte Verde in Florence</td>\n",
       "      <td>Apartment at a 30 minute walk from Ponte Vecch...</td>\n",
       "      <td>NaN</td>\n",
       "      <td>https://a0.muscache.com/pictures/miso/Hosting-...</td>\n",
       "      <td>99235</td>\n",
       "      <td>...</td>\n",
       "      <td>4.96</td>\n",
       "      <td>4.63</td>\n",
       "      <td>4.63</td>\n",
       "      <td>NaN</td>\n",
       "      <td>f</td>\n",
       "      <td>1</td>\n",
       "      <td>1</td>\n",
       "      <td>0</td>\n",
       "      <td>0</td>\n",
       "      <td>0.15</td>\n",
       "    </tr>\n",
       "    <tr>\n",
       "      <th>2</th>\n",
       "      <td>32180</td>\n",
       "      <td>https://www.airbnb.com/rooms/32180</td>\n",
       "      <td>20240917031426</td>\n",
       "      <td>2024-09-17</td>\n",
       "      <td>city scrape</td>\n",
       "      <td>Charming Gem - Oltrarno City centre</td>\n",
       "      <td>.</td>\n",
       "      <td>NaN</td>\n",
       "      <td>https://a0.muscache.com/pictures/bcb23395-7215...</td>\n",
       "      <td>13925330</td>\n",
       "      <td>...</td>\n",
       "      <td>4.70</td>\n",
       "      <td>4.82</td>\n",
       "      <td>4.85</td>\n",
       "      <td>048017LTN9464</td>\n",
       "      <td>f</td>\n",
       "      <td>1</td>\n",
       "      <td>1</td>\n",
       "      <td>0</td>\n",
       "      <td>0</td>\n",
       "      <td>0.21</td>\n",
       "    </tr>\n",
       "    <tr>\n",
       "      <th>3</th>\n",
       "      <td>39115</td>\n",
       "      <td>https://www.airbnb.com/rooms/39115</td>\n",
       "      <td>20240917031426</td>\n",
       "      <td>2024-09-17</td>\n",
       "      <td>city scrape</td>\n",
       "      <td>Central Double Shared Bathroom</td>\n",
       "      <td>Double (or Twin) Room Shared Bathroom: comfort...</td>\n",
       "      <td>San Lorenzo Church, the market and Cappelle Me...</td>\n",
       "      <td>https://a0.muscache.com/pictures/17793998/5f09...</td>\n",
       "      <td>167739</td>\n",
       "      <td>...</td>\n",
       "      <td>4.74</td>\n",
       "      <td>4.90</td>\n",
       "      <td>4.55</td>\n",
       "      <td>NaN</td>\n",
       "      <td>f</td>\n",
       "      <td>10</td>\n",
       "      <td>2</td>\n",
       "      <td>8</td>\n",
       "      <td>0</td>\n",
       "      <td>0.46</td>\n",
       "    </tr>\n",
       "    <tr>\n",
       "      <th>4</th>\n",
       "      <td>39165</td>\n",
       "      <td>https://www.airbnb.com/rooms/39165</td>\n",
       "      <td>20240917031426</td>\n",
       "      <td>2024-09-17</td>\n",
       "      <td>previous scrape</td>\n",
       "      <td>Florence Central Double Private Bathroom</td>\n",
       "      <td>Double room private bathroom: comfortable, lar...</td>\n",
       "      <td>San Lorenzo Church, the market and Cappelle Me...</td>\n",
       "      <td>https://a0.muscache.com/pictures/7e94f597-ac04...</td>\n",
       "      <td>167739</td>\n",
       "      <td>...</td>\n",
       "      <td>4.63</td>\n",
       "      <td>4.95</td>\n",
       "      <td>4.32</td>\n",
       "      <td>NaN</td>\n",
       "      <td>f</td>\n",
       "      <td>10</td>\n",
       "      <td>2</td>\n",
       "      <td>8</td>\n",
       "      <td>0</td>\n",
       "      <td>0.13</td>\n",
       "    </tr>\n",
       "  </tbody>\n",
       "</table>\n",
       "<p>5 rows × 75 columns</p>\n",
       "</div>"
      ],
      "text/plain": [
       "      id                         listing_url       scrape_id last_scraped  \\\n",
       "0  31840  https://www.airbnb.com/rooms/31840  20240917031426   2024-09-17   \n",
       "1  32120  https://www.airbnb.com/rooms/32120  20240917031426   2024-09-17   \n",
       "2  32180  https://www.airbnb.com/rooms/32180  20240917031426   2024-09-17   \n",
       "3  39115  https://www.airbnb.com/rooms/39115  20240917031426   2024-09-17   \n",
       "4  39165  https://www.airbnb.com/rooms/39165  20240917031426   2024-09-17   \n",
       "\n",
       "            source                                      name  \\\n",
       "0  previous scrape          A Residenza Martin  Classic room   \n",
       "1      city scrape        Welcome at Corte Verde in Florence   \n",
       "2      city scrape       Charming Gem - Oltrarno City centre   \n",
       "3      city scrape            Central Double Shared Bathroom   \n",
       "4  previous scrape  Florence Central Double Private Bathroom   \n",
       "\n",
       "                                         description  \\\n",
       "0  Nice, private and quiet double room, classic s...   \n",
       "1  Apartment at a 30 minute walk from Ponte Vecch...   \n",
       "2                                                  .   \n",
       "3  Double (or Twin) Room Shared Bathroom: comfort...   \n",
       "4  Double room private bathroom: comfortable, lar...   \n",
       "\n",
       "                               neighborhood_overview  \\\n",
       "0                                                NaN   \n",
       "1                                                NaN   \n",
       "2                                                NaN   \n",
       "3  San Lorenzo Church, the market and Cappelle Me...   \n",
       "4  San Lorenzo Church, the market and Cappelle Me...   \n",
       "\n",
       "                                         picture_url   host_id  ...  \\\n",
       "0  https://a0.muscache.com/pictures/prohost-api/H...    380378  ...   \n",
       "1  https://a0.muscache.com/pictures/miso/Hosting-...     99235  ...   \n",
       "2  https://a0.muscache.com/pictures/bcb23395-7215...  13925330  ...   \n",
       "3  https://a0.muscache.com/pictures/17793998/5f09...    167739  ...   \n",
       "4  https://a0.muscache.com/pictures/7e94f597-ac04...    167739  ...   \n",
       "\n",
       "  review_scores_communication review_scores_location review_scores_value  \\\n",
       "0                        4.91                   4.91                4.70   \n",
       "1                        4.96                   4.63                4.63   \n",
       "2                        4.70                   4.82                4.85   \n",
       "3                        4.74                   4.90                4.55   \n",
       "4                        4.63                   4.95                4.32   \n",
       "\n",
       "         license instant_bookable calculated_host_listings_count  \\\n",
       "0            NaN                t                             31   \n",
       "1            NaN                f                              1   \n",
       "2  048017LTN9464                f                              1   \n",
       "3            NaN                f                             10   \n",
       "4            NaN                f                             10   \n",
       "\n",
       "  calculated_host_listings_count_entire_homes  \\\n",
       "0                                          21   \n",
       "1                                           1   \n",
       "2                                           1   \n",
       "3                                           2   \n",
       "4                                           2   \n",
       "\n",
       "  calculated_host_listings_count_private_rooms  \\\n",
       "0                                           10   \n",
       "1                                            0   \n",
       "2                                            0   \n",
       "3                                            8   \n",
       "4                                            8   \n",
       "\n",
       "  calculated_host_listings_count_shared_rooms reviews_per_month  \n",
       "0                                           0              0.77  \n",
       "1                                           0              0.15  \n",
       "2                                           0              0.21  \n",
       "3                                           0              0.46  \n",
       "4                                           0              0.13  \n",
       "\n",
       "[5 rows x 75 columns]"
      ]
     },
     "execution_count": 7,
     "metadata": {},
     "output_type": "execute_result"
    }
   ],
   "source": [
    "df1 = df.copy()\n",
    "df1.head()"
   ]
  },
  {
   "cell_type": "code",
   "execution_count": 8,
   "metadata": {},
   "outputs": [],
   "source": [
    "# Filtro 1\n",
    "# Sustituir los valores nulos de la columna 'description' por 'S/D'\n",
    "df1['description'] = df1['description'].fillna('S/D')\n",
    "df1.to_csv('filtro1.csv')"
   ]
  },
  {
   "cell_type": "code",
   "execution_count": 9,
   "metadata": {},
   "outputs": [],
   "source": [
    "# Filtro 2 \n",
    "# Sustituir los valores nulos de la columna 'neighborhood_overview' por 'S/D'\n",
    "df1['neighborhood_overview'] = df1['neighborhood_overview'].fillna('S/D')\n",
    "df1.to_csv('filtro2.csv')"
   ]
  },
  {
   "cell_type": "code",
   "execution_count": 10,
   "metadata": {},
   "outputs": [],
   "source": [
    "# Filtro 3\n",
    "# Sustituir los valores nulos de la columna 'host_location' por 'Italy'\n",
    "df1['host_location'] = df1['host_location'].fillna('Italy')\n",
    "df1.to_csv('filtro3.csv')"
   ]
  },
  {
   "cell_type": "code",
   "execution_count": 11,
   "metadata": {},
   "outputs": [],
   "source": [
    "# Filtro 4\n",
    "# Sustituir los valores nulos de la columna 'host_about' por 'S/D'\n",
    "df1['host_about'] = df1['host_about'].fillna('S/D')\n",
    "df1.to_csv('filtro4.csv')"
   ]
  },
  {
   "cell_type": "code",
   "execution_count": 12,
   "metadata": {},
   "outputs": [],
   "source": [
    "# Filtro 5\n",
    "# Sustituir los valores nulos de la columna 'host_response_time' por 'within a day'\n",
    "df1['host_response_time'] = df1['host_response_time'].fillna('within a day')\n",
    "df1.to_csv('filtro5.csv')"
   ]
  },
  {
   "cell_type": "code",
   "execution_count": 13,
   "metadata": {},
   "outputs": [],
   "source": [
    "# Filtro 6\n",
    "# Sustituir los valores nulos de la columna 'host_response_rate' por valores no nulos hacia adelante \"forward fill\"\n",
    "df1['host_response_rate'] = df1['host_response_rate'].ffill()\n",
    "df1.to_csv('filtro6.csv')"
   ]
  },
  {
   "cell_type": "code",
   "execution_count": 14,
   "metadata": {},
   "outputs": [],
   "source": [
    "# Filtro 7\n",
    "# Sustituir los valores nulos de la columna 'host_acceptance_rate' por valores no nulos hacia atras \"backward fill\"\n",
    "df1['host_acceptance_rate'] = df1['host_acceptance_rate'].bfill()\n",
    "df1.to_csv('filtro7.csv')"
   ]
  },
  {
   "cell_type": "code",
   "execution_count": 15,
   "metadata": {},
   "outputs": [],
   "source": [
    "# Filtro 8\n",
    "# Sustituir los valores nulos de la columna 'host_is_superhost' por 'undefined'\n",
    "df1['host_is_superhost'] = df1['host_is_superhost'].fillna('undefined')\n",
    "df1.to_csv('filtro8.csv')"
   ]
  },
  {
   "cell_type": "code",
   "execution_count": 16,
   "metadata": {},
   "outputs": [],
   "source": [
    "# Filtro 9\n",
    "# host_neighbourhood\n",
    "# Sustituir los valores nulos de la columna 'host_neighbourhood' por 'S/D'\n",
    "df1['host_neighbourhood'] = df1['host_neighbourhood'].fillna('S/D')\n",
    "df1.to_csv('filtro9.csv')"
   ]
  },
  {
   "cell_type": "code",
   "execution_count": 17,
   "metadata": {},
   "outputs": [],
   "source": [
    "# Filtro 10\n",
    "# neighbourhood\n",
    "# Sustituir los valores nulos de la columna 'neighbourhood' por 'Italy'\n",
    "df1['neighbourhood'] = df1['neighbourhood'].fillna('Italy')\n",
    "df1.to_csv('filtro10.csv')"
   ]
  },
  {
   "cell_type": "code",
   "execution_count": 18,
   "metadata": {},
   "outputs": [],
   "source": [
    "# Filtro 11\n",
    "# neighbourhood_group_cleansed\n",
    "df1['neighbourhood_group_cleansed'] = df1['neighbourhood_group_cleansed'].fillna('S/D')\n",
    "df1.to_csv('filtro11.csv')"
   ]
  },
  {
   "cell_type": "code",
   "execution_count": 19,
   "metadata": {},
   "outputs": [],
   "source": [
    "# Filtro 12\n",
    "# Sustituir los valores nulos de la columna 'bathrooms' por valor 1\n",
    "df1['bathrooms'] = df1['bathrooms'].fillna(1)\n",
    "df1.to_csv('filtro12.csv')"
   ]
  },
  {
   "cell_type": "code",
   "execution_count": 20,
   "metadata": {},
   "outputs": [],
   "source": [
    "# Filtro 13\n",
    "# Sustituir los valores nulos de la columna 'bathrooms_text' por 'S/D'\n",
    "df1['bathrooms_text'] = df1['bathrooms_text'].fillna('S/D')\n",
    "df1.to_csv('filtro13.csv')"
   ]
  },
  {
   "cell_type": "code",
   "execution_count": 21,
   "metadata": {},
   "outputs": [],
   "source": [
    "# Filtro 14\n",
    "# Sustituir los valores nulos de la columna 'bedrooms' por valor 1\n",
    "df1['bedrooms'] = df1['bedrooms'].fillna(1)\n",
    "df1.to_csv('filtro14.csv')\n"
   ]
  },
  {
   "cell_type": "code",
   "execution_count": 22,
   "metadata": {},
   "outputs": [],
   "source": [
    "# Filtro 15\n",
    "# Sustituir los valores nulos de la columna 'beds' por valor 1\n",
    "df1['beds'] = df1['beds'].fillna(1)\n",
    "df1.to_csv('filtro15.csv')"
   ]
  },
  {
   "cell_type": "code",
   "execution_count": 23,
   "metadata": {},
   "outputs": [],
   "source": [
    "# Filtro 16\n",
    "# price\n",
    "# Sustituir los valores nulos de la columna 'price' por valor 0\n",
    "df1['price'] = df1['price'].fillna(0)\n",
    "df1.to_csv('filtro16.csv')"
   ]
  },
  {
   "cell_type": "code",
   "execution_count": 24,
   "metadata": {},
   "outputs": [],
   "source": [
    "# Filtro 17\n",
    "# Sustituir los valores nulos de la columna 'calendar_updated' por valor 0\n",
    "df1['calendar_updated'] = df1['calendar_updated'].fillna(0)\n",
    "df1.to_csv('filtro17.csv')"
   ]
  },
  {
   "cell_type": "code",
   "execution_count": 25,
   "metadata": {},
   "outputs": [],
   "source": [
    "# Filtro 18\n",
    "# Sustituir los valores nulos de la columna 'has_availability' por valores no nulos hacia atras \"backward fill\"\n",
    "df1['has_availability'] = df1['has_availability'].bfill()\n",
    "df1.to_csv('filtro18.csv')"
   ]
  },
  {
   "cell_type": "code",
   "execution_count": 26,
   "metadata": {},
   "outputs": [],
   "source": [
    "# Filtro 19\n",
    "# Sustituir los valores nulos de la columna 'first_review' por una fecha en concreto '2025-12-31'\n",
    "df1['first_review'] = df1['first_review'].fillna('2025-12-31')\n",
    "df1.to_csv('filtro19.csv')"
   ]
  },
  {
   "cell_type": "code",
   "execution_count": 27,
   "metadata": {},
   "outputs": [],
   "source": [
    "# Filtro 20\n",
    "# Sustituir los valores nulos de la columna 'last_review' por una fecha en concreto '2025-12-31'\n",
    "df1['last_review'] = df1['last_review'].fillna('2025-12-31')\n",
    "df1.to_csv('filtro20.csv')"
   ]
  },
  {
   "cell_type": "code",
   "execution_count": 28,
   "metadata": {},
   "outputs": [],
   "source": [
    "# Filtro 21\n",
    "# Sustituir los valores nulos de la columna 'review_scores_rating' con promedio (media)\n",
    "#df1['salon_ventas'] = df1['salon_ventas'].fillna(round(df['salon_ventas'].mean(),1))\n",
    "df1['review_scores_rating'] = df1['review_scores_rating'].fillna(round(df['review_scores_rating'].mean(),1))\n",
    "df1.to_csv('filtro21.csv')"
   ]
  },
  {
   "cell_type": "code",
   "execution_count": 29,
   "metadata": {},
   "outputs": [],
   "source": [
    "# Filtro 22\n",
    "# Sustituir los valores nulos de la columna 'review_scores_accuracy' con la mediana\n",
    "df1['review_scores_accuracy'] = df1['review_scores_accuracy'].fillna(round(df['review_scores_accuracy'].median(),1))\n",
    "df1.to_csv('filtro22.csv')"
   ]
  },
  {
   "cell_type": "code",
   "execution_count": 30,
   "metadata": {},
   "outputs": [],
   "source": [
    "# Filtro 23\n",
    "# review_scores_cleanliness\n",
    "# Sustituir los valores nulos de la columna 'review_scores_cleanliness' con promedio (media)\n",
    "df1['review_scores_cleanliness'] = df1['review_scores_cleanliness'].fillna(round(df['review_scores_cleanliness'].mean(),1))\n",
    "df1.to_csv('filtro23.csv')"
   ]
  },
  {
   "cell_type": "code",
   "execution_count": 31,
   "metadata": {},
   "outputs": [],
   "source": [
    "# Filtro 24\n",
    "# Sustituir los valores nulos de la columna 'review_scores_checkin' con la mediana\n",
    "df1['review_scores_checkin'] = df1['review_scores_checkin'].fillna(round(df['review_scores_checkin'].median(),1))\n",
    "df1.to_csv('filtro24.csv')"
   ]
  },
  {
   "cell_type": "code",
   "execution_count": 32,
   "metadata": {},
   "outputs": [],
   "source": [
    "# Filtro 25\n",
    "# Sustituir los valores nulos de la columna 'review_scores_communication' con promedio (media)\n",
    "df1['review_scores_communication'] = df1['review_scores_communication'].fillna(round(df['review_scores_communication'].mean(),1))\n",
    "df1.to_csv('filtro25.csv')"
   ]
  },
  {
   "cell_type": "code",
   "execution_count": 33,
   "metadata": {},
   "outputs": [],
   "source": [
    "# Filtro 26\n",
    "# Sustituir los valores nulos de la columna 'review_scores_communication' con la mediana\n",
    "df1['review_scores_communication'] = df1['review_scores_communication'].fillna(round(df['review_scores_communication'].median(),1))\n",
    "df1.to_csv('filtro26.csv')\n"
   ]
  },
  {
   "cell_type": "code",
   "execution_count": 34,
   "metadata": {},
   "outputs": [],
   "source": [
    "# Filtro 27\n",
    "# Sustituir los valores nulos de la columna 'review_scores_location' con promedio (media)\n",
    "df1['review_scores_location'] = df1['review_scores_location'].fillna(round(df['review_scores_location'].mean(),1))\n",
    "df1.to_csv('filtro27.csv')"
   ]
  },
  {
   "cell_type": "code",
   "execution_count": 35,
   "metadata": {},
   "outputs": [],
   "source": [
    "# Filtro 28\n",
    "# Sustituir los valores nulos de la columna 'review_scores_value' con la mediana\n",
    "df1['review_scores_value'] = df1['review_scores_value'].fillna(round(df['review_scores_value'].median(),1))\n",
    "df1.to_csv('filtro28.csv')"
   ]
  },
  {
   "cell_type": "code",
   "execution_count": 36,
   "metadata": {},
   "outputs": [],
   "source": [
    "# Filtro 29\n",
    "# Sustituir los valores nulos de la columna 'license' por 'S/D'\n",
    "df1['license'] = df1['license'].fillna('S/D')"
   ]
  },
  {
   "cell_type": "code",
   "execution_count": 37,
   "metadata": {},
   "outputs": [],
   "source": [
    "# Filtro 30\n",
    "# Sustituir los valores nulos de la columna 'reviews_per_month' con promedio (media)\n",
    "df1['reviews_per_month'] = df1['reviews_per_month'].fillna(round(df['reviews_per_month'].mean(),1))\n",
    "df1.to_csv('filtro30.csv')"
   ]
  },
  {
   "cell_type": "code",
   "execution_count": 38,
   "metadata": {},
   "outputs": [
    {
     "data": {
      "text/plain": [
       "id                                              0\n",
       "listing_url                                     0\n",
       "scrape_id                                       0\n",
       "last_scraped                                    0\n",
       "source                                          0\n",
       "                                               ..\n",
       "calculated_host_listings_count                  0\n",
       "calculated_host_listings_count_entire_homes     0\n",
       "calculated_host_listings_count_private_rooms    0\n",
       "calculated_host_listings_count_shared_rooms     0\n",
       "reviews_per_month                               0\n",
       "Length: 75, dtype: int64"
      ]
     },
     "execution_count": 38,
     "metadata": {},
     "output_type": "execute_result"
    }
   ],
   "source": [
    "# Identificar valores nulos por columna\n",
    "valores_nulos = df1.isnull().sum()\n",
    "valores_nulos.to_string(\"valores_nulos_final.txt\")\n",
    "valores_nulos"
   ]
  },
  {
   "cell_type": "code",
   "execution_count": 39,
   "metadata": {},
   "outputs": [
    {
     "data": {
      "text/plain": [
       "np.int64(0)"
      ]
     },
     "execution_count": 39,
     "metadata": {},
     "output_type": "execute_result"
    }
   ],
   "source": [
    "# Identificar valores nulos por data frame\n",
    "valores_nulos = df1.isnull().sum().sum()\n",
    "valores_nulos"
   ]
  }
 ],
 "metadata": {
  "kernelspec": {
   "display_name": "env",
   "language": "python",
   "name": "python3"
  },
  "language_info": {
   "codemirror_mode": {
    "name": "ipython",
    "version": 3
   },
   "file_extension": ".py",
   "mimetype": "text/x-python",
   "name": "python",
   "nbconvert_exporter": "python",
   "pygments_lexer": "ipython3",
   "version": "3.13.1"
  }
 },
 "nbformat": 4,
 "nbformat_minor": 2
}
